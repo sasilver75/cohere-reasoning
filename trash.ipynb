{
 "cells": [
  {
   "cell_type": "code",
   "execution_count": 22,
   "metadata": {},
   "outputs": [],
   "source": [
    "%load_ext autoreload\n",
    "%autoreload 2"
   ]
  },
  {
   "cell_type": "code",
   "execution_count": 2,
   "metadata": {},
   "outputs": [],
   "source": [
    "import os\n",
    "import re\n",
    "from pprint import pprint\n",
    "\n",
    "import pandas as pd\n",
    "from datasets import load_dataset\n",
    "import cohere\n",
    "from dotenv import load_dotenv\n",
    "\n",
    "\n",
    "\n",
    "import prompts\n"
   ]
  },
  {
   "cell_type": "code",
   "execution_count": 3,
   "metadata": {},
   "outputs": [
    {
     "name": "stdout",
     "output_type": "stream",
     "text": [
      "id='88a082d7-9911-4ec0-9b84-0751181b0064' finish_reason='COMPLETE' prompt=None message=AssistantMessageResponse(role='assistant', tool_calls=None, tool_plan=None, content=[TextAssistantMessageResponseContentItem(type='text', text='Hello there! How can I help you today?', document={})], citations=None) usage=None meta={'api_version': {'version': '2', 'is_experimental': True}, 'warnings': ['You are using an experimental version, for more information please refer to https://docs.cohere.com/versioning-reference'], 'billed_units': {'input_tokens': 4, 'output_tokens': 10}, 'tokens': {'input_tokens': 210, 'output_tokens': 10}}\n"
     ]
    }
   ],
   "source": [
    "# Retrieve your API key from environment variables, and create a Cohere client\n",
    "load_dotenv()\n",
    "key = os.getenv(\"COHERE_API_KEY\")\n",
    "co = cohere.ClientV2(key)\n",
    "model_name = \"command-r-plus-08-2024\"\n",
    "\n",
    "# Test the API\n",
    "print(co.chat(model=model_name, messages=[{\"role\": \"user\", \"content\": \"Hello, world!\"}]))"
   ]
  },
  {
   "cell_type": "code",
   "execution_count": 4,
   "metadata": {},
   "outputs": [
    {
     "data": {
      "text/html": [
       "<div>\n",
       "<style scoped>\n",
       "    .dataframe tbody tr th:only-of-type {\n",
       "        vertical-align: middle;\n",
       "    }\n",
       "\n",
       "    .dataframe tbody tr th {\n",
       "        vertical-align: top;\n",
       "    }\n",
       "\n",
       "    .dataframe thead th {\n",
       "        text-align: right;\n",
       "    }\n",
       "</style>\n",
       "<table border=\"1\" class=\"dataframe\">\n",
       "  <thead>\n",
       "    <tr style=\"text-align: right;\">\n",
       "      <th></th>\n",
       "      <th>problem</th>\n",
       "      <th>solution</th>\n",
       "    </tr>\n",
       "  </thead>\n",
       "  <tbody>\n",
       "    <tr>\n",
       "      <th>0</th>\n",
       "      <td>Given the functions $f(x) = \\log_a(1+x)$ and $...</td>\n",
       "      <td>1. Since $f(x) = \\log_a(1+x)$ and $g(x) = \\log...</td>\n",
       "    </tr>\n",
       "    <tr>\n",
       "      <th>1</th>\n",
       "      <td>In $\\triangle ABC$, the lengths of the sides o...</td>\n",
       "      <td>Since $\\cos \\frac{C}{2} = \\frac{\\sqrt{5}}{3}$,...</td>\n",
       "    </tr>\n",
       "    <tr>\n",
       "      <th>2</th>\n",
       "      <td>Given that $P$ is any point on the circle $C$:...</td>\n",
       "      <td>The distance $d$ between the center of the cir...</td>\n",
       "    </tr>\n",
       "    <tr>\n",
       "      <th>3</th>\n",
       "      <td>Factorize: $x^{3}-6x^{2}+9x=\\_\\_\\_\\_\\_\\_.$</td>\n",
       "      <td>To factorize the given expression $x^{3}-6x^{2...</td>\n",
       "    </tr>\n",
       "    <tr>\n",
       "      <th>4</th>\n",
       "      <td>Given that the sum of the first $n$ terms of a...</td>\n",
       "      <td>Since $S\\_n=2^{n}a\\_n-1$,\\nwe have $S_{n-1}=2^...</td>\n",
       "    </tr>\n",
       "  </tbody>\n",
       "</table>\n",
       "</div>"
      ],
      "text/plain": [
       "                                             problem  \\\n",
       "0  Given the functions $f(x) = \\log_a(1+x)$ and $...   \n",
       "1  In $\\triangle ABC$, the lengths of the sides o...   \n",
       "2  Given that $P$ is any point on the circle $C$:...   \n",
       "3         Factorize: $x^{3}-6x^{2}+9x=\\_\\_\\_\\_\\_\\_.$   \n",
       "4  Given that the sum of the first $n$ terms of a...   \n",
       "\n",
       "                                            solution  \n",
       "0  1. Since $f(x) = \\log_a(1+x)$ and $g(x) = \\log...  \n",
       "1  Since $\\cos \\frac{C}{2} = \\frac{\\sqrt{5}}{3}$,...  \n",
       "2  The distance $d$ between the center of the cir...  \n",
       "3  To factorize the given expression $x^{3}-6x^{2...  \n",
       "4  Since $S\\_n=2^{n}a\\_n-1$,\\nwe have $S_{n-1}=2^...  "
      ]
     },
     "execution_count": 4,
     "metadata": {},
     "output_type": "execute_result"
    }
   ],
   "source": [
    "# Load the cn k12 subset and get the first 5 rows of problem/solution\n",
    "file_path = \"datasets/cn_k12_math_problems.csv\"\n",
    "data = pd.read_csv(file_path, nrows=5)\n",
    "data = data[[\"problem\", \"solution\"]]\n",
    "data"
   ]
  },
  {
   "cell_type": "code",
   "execution_count": 5,
   "metadata": {},
   "outputs": [],
   "source": [
    "step_response = co.chat(\n",
    "    model=model_name,\n",
    "    messages=[\n",
    "        {\n",
    "            \"role\": \"user\",\n",
    "            \"content\": prompts.STEPIFY_PROMPT.format(solution=data.iloc[0][\"solution\"])\n",
    "        }\n",
    "    ]\n",
    ")\n"
   ]
  },
  {
   "cell_type": "code",
   "execution_count": 25,
   "metadata": {},
   "outputs": [
    {
     "name": "stdout",
     "output_type": "stream",
     "text": [
      "<step>\n",
      "Given the functions $f(x) = \\log_a(1+x)$ and $g(x) = \\log_a(1-x)$, where $a>0$ and $a \\neq 1$, we want to find the domain of the function $f(x) - g(x)$.\n",
      "</step>\n",
      "\n",
      "<step>\n",
      "To ensure the function $f(x) - g(x)$ is defined, we need to consider the domain of the individual logarithmic functions. The domain of $\\log_a(1+x)$ is $1+x > 0$, and the domain of $\\log_a(1-x)$ is $1-x > 0$.\n",
      "</step>\n",
      "\n",
      "<step>\n",
      "Solving the system of inequalities $1+x > 0$ and $1-x > 0$, we find that $-1 < x < 1$. Therefore, the domain of the function $f(x) - g(x)$ is $(-1, 1)$.\n",
      "</step>\n",
      "\n",
      "<step>\n",
      "Now, let's determine if $f(x) - g(x)$ is an odd function. Since the domain $(-1, 1)$ is symmetric about the origin, we can define a new function $F(x) = f(x) - g(x)$. We then evaluate $F(-x) = f(-x) - g(-x) = \\log_a(1-x) - \\log_a(1+x)$.\n",
      "</step>\n",
      "\n",
      "<step>\n",
      "Simplifying further, we get $F(-x) = -[\\log_a(1+x) - \\log_a(1-x)] = -F(x)$. This shows that $F(x)$ is an odd function, and consequently, $f(x) - g(x)$ is also an odd function.\n",
      "</step>\n",
      "\n",
      "<step>\n",
      "Next, we want to find the range of $x$ for which $f(x) - g(x) > 0$. From this inequality, we can conclude that $f(x) > g(x)$.\n",
      "</step>\n",
      "\n",
      "<step>\n",
      "Considering the case when $a > 1$, we have the system of inequalities: $-1 < x < 1$ and $1+x > 1-x$, which simplifies to $0 < x < 1$.\n",
      "</step>\n",
      "\n",
      "<step>\n",
      "For $0 < a < 1$, the system of inequalities becomes: $-1 < x < 1$ and $1+x < 1-x$, which simplifies to $-1 < x < 0$.\n",
      "</step>\n",
      "\n",
      "<step>\n",
      "In summary, if $a > 1$, the solution set for the inequality $f(x) - g(x) > 0$ is $(0, 1)$, and if $0 < a < 1$, the solution set is $(-1, 0)$.\n",
      "</step>\n",
      "\n",
      "<step>\n",
      "1. The domain of $f(x) - g(x)$ is $(-1, 1)$.\n",
      "2. The function $f(x) - g(x)$ is an odd function.\n",
      "3. The range of $x$ for which $f(x) - g(x) > 0$ is $(0, 1)$ when $a > 1$, and $(-1, 0)$ when $0 < a < 1$.\n",
      "</step>\n"
     ]
    }
   ],
   "source": [
    "steps = step_response.message.content[0].text\n",
    "print(steps)"
   ]
  },
  {
   "cell_type": "code",
   "execution_count": 46,
   "metadata": {},
   "outputs": [
    {
     "data": {
      "text/plain": [
       "<module 'prompts' from '/home/sam/code/cohere-reasoning/prompts.py'>"
      ]
     },
     "execution_count": 46,
     "metadata": {},
     "output_type": "execute_result"
    }
   ],
   "source": [
    "import importlib\n",
    "importlib.reload(prompts)"
   ]
  },
  {
   "cell_type": "code",
   "execution_count": 47,
   "metadata": {},
   "outputs": [],
   "source": [
    "perturbed_truncated_response = co.chat(\n",
    "    model=model_name,\n",
    "    messages=[\n",
    "        {\n",
    "            \"role\": \"user\",\n",
    "            \"content\": prompts.PERTURB_PROMPT.format(steps=steps)\n",
    "        }\n",
    "    ]\n",
    ")"
   ]
  },
  {
   "cell_type": "code",
   "execution_count": 49,
   "metadata": {},
   "outputs": [
    {
     "name": "stdout",
     "output_type": "stream",
     "text": [
      "<step>\n",
      "Given the functions $f(x) = \\log_a(1+x)$ and $g(x) = \\log_a(1-x)$, where $a>0$ and $a \\neq 1$, we want to find the domain of the function $f(x) - g(x)$.\n",
      "</step>\n",
      "\n",
      "<step>\n",
      "To ensure the function $f(x) - g(x)$ is defined, we need to consider the domain of the individual logarithmic functions. The domain of $\\log_a(1+x)$ is $1+x > 0$, and the domain of $\\log_a(1-x)$ is $1-x > 0$.\n",
      "</step>\n",
      "\n",
      "<step>\n",
      "Solving the system of inequalities $1+x > 0$ and $1-x > 0$, we find that $-1 < x < 1$. Therefore, the domain of the function $f(x) - g(x)$ is $(-1, 1)$.\n",
      "</step>\n",
      "\n",
      "<step>\n",
      "Now, let's determine if $f(x) - g(x)$ is an odd function. Since the domain $(-1, 1)$ is symmetric about the origin, we can define a new function $F(x) = f(x) - g(x)$. We then evaluate $F(-x) = f(-x) - g(-x) = \\log_a(1-x) - \\log_a(1+x)$.\n",
      "</step>\n",
      "\n",
      "<step>\n",
      "Simplifying further, we get $F(-x) = -[\\log_a(1+x) - \\log_a(1-x)] = -F(x)$. This shows that $F(x)$ is an odd function, and consequently, $f(x) - g(x)$ is also an odd function.\n",
      "</step>\n",
      "\n",
      "<step>\n",
      "Next, we want to find the range of $x$ for which $f(x) - g(x) > 0$. From this inequality, we can conclude that $f(x) > g(x)$.\n",
      "</step>\n",
      "\n",
      "<step>\n",
      "Considering the case when $a > 1$, we have the system of inequalities: $-1 < x < 1$ and $1+x > 1-x$, which simplifies to $0 < x < 1$.\n",
      "</step>\n",
      "\n",
      "<step>\n",
      "For $0 < a < 1$, the system of inequalities becomes: $-1 < x < 1$ and $1+x < 1-x$, which simplifies to $-1 < x < 0$.\n",
      "</step>\n",
      "\n",
      "<step>\n",
      "In summary, if $a > 1$, the solution set for the inequality $f(x) - g(x) > 0$ is $(0, 1)$, and if $0 < a < 1$, the solution set is $(-1, 0)$.\n",
      "</step>\n",
      "\n",
      "<step>\n",
      "1. The domain of $f(x) - g(x)$ is $(-1, 1)$.\n",
      "2. The function $f(x) - g(x)$ is an odd function.\n",
      "3. The range of $x$ for which $f(x) - g(x) > 0$ is $(0, 1)$ when $a > 1$, and $(-1, 0)$ when $0 < a < 1$.\n",
      "</step>\n"
     ]
    }
   ],
   "source": [
    "print(steps)"
   ]
  },
  {
   "cell_type": "code",
   "execution_count": 48,
   "metadata": {},
   "outputs": [
    {
     "name": "stdout",
     "output_type": "stream",
     "text": [
      "<perturbed_chain>\n",
      "<step>\n",
      "Given the functions $f(x) = \\log_a(1+x)$ and $g(x) = \\log_a(1-x)$, where $a>0$ and $a \\neq 1$, we want to find the domain of the function $f(x) - g(x)$.\n",
      "</step>\n",
      "\n",
      "<step>\n",
      "To ensure the function $f(x) - g(x)$ is defined, we need to consider the domain of the individual logarithmic functions. The domain of $\\log_a(1+x)$ is $1+x > 0$, and the domain of $\\log_a(1-x)$ is $1-x > 0$.\n",
      "</step>\n",
      "\n",
      "<step>\n",
      "Solving the system of inequalities $1+x > 0$ and $1-x > 0$, we find that $x < 1$. Therefore, the domain of the function $f(x) - g(x)$ is $(-\\infty, 1)$.\n",
      "</step>\n",
      "</perturbed_chain>\n",
      "\n",
      "<perturbation_info>\n",
      "Selected Step: 3\n",
      "Perturbation Type: Arithmetic sign error\n",
      "Description: I changed the inequality sign in the solution to $x < 1$ instead of $-1 < x < 1$.\n",
      "</perturbation_info>\n"
     ]
    }
   ],
   "source": [
    "perturbed_truncated = perturbed_truncated_response.message.content[0].text\n",
    "print(perturbed_truncated)"
   ]
  },
  {
   "cell_type": "code",
   "execution_count": 50,
   "metadata": {},
   "outputs": [],
   "source": [
    "def stepify(solution: str) -> str:\n",
    "    step_response = co.chat(\n",
    "        model=model_name,\n",
    "        messages=[\n",
    "            {\n",
    "                \"role\": \"user\",\n",
    "                \"content\": prompts.STEPIFY_PROMPT.format(solution=solution)\n",
    "            }\n",
    "        ]\n",
    "    )\n",
    "    return step_response.message.content[0].text\n"
   ]
  },
  {
   "cell_type": "code",
   "execution_count": 51,
   "metadata": {},
   "outputs": [],
   "source": [
    "def perturb(steps: str) -> str:\n",
    "    perturbed_response = co.chat(\n",
    "        model=model_name,\n",
    "        messages=[\n",
    "            {\n",
    "                \"role\": \"user\",\n",
    "                \"content\": prompts.PERTURB_SHOTS[0].format(steps=steps)\n",
    "            }\n",
    "        ]\n",
    "    )\n",
    "    return perturbed_response.message.content[0].text"
   ]
  },
  {
   "cell_type": "code",
   "execution_count": 52,
   "metadata": {},
   "outputs": [
    {
     "ename": "NameError",
     "evalue": "name 'Any' is not defined",
     "output_type": "error",
     "traceback": [
      "\u001b[0;31m---------------------------------------------------------------------------\u001b[0m",
      "\u001b[0;31mNameError\u001b[0m                                 Traceback (most recent call last)",
      "Cell \u001b[0;32mIn[52], line 1\u001b[0m\n\u001b[0;32m----> 1\u001b[0m \u001b[38;5;28;01mdef\u001b[39;00m \u001b[38;5;21mpostprocess\u001b[39m(output: \u001b[38;5;28mstr\u001b[39m) \u001b[38;5;241m-\u001b[39m\u001b[38;5;241m>\u001b[39m \u001b[38;5;28mdict\u001b[39m[\u001b[38;5;28mstr\u001b[39m, \u001b[43mAny\u001b[49m]:\n\u001b[1;32m      2\u001b[0m     \u001b[38;5;28;01mreturn\u001b[39;00m extract_perturbation_info(output)\n",
      "\u001b[0;31mNameError\u001b[0m: name 'Any' is not defined"
     ]
    }
   ],
   "source": [
    "def postprocess(output: str) -> dict:\n",
    "    # Extract the steps from the perturbed chain\n",
    "    steps_match = re.search(r'<perturbed_chain>(.*?)</perturbed_chain>', output, re.DOTALL)\n",
    "    steps = steps_match.group(1).strip() if steps_match else \"\"\n",
    "    steps = re.sub(r'</?step>', '', steps).replace('\\n', ' ').strip()\n",
    "    steps = re.sub(r'\\s+', ' ', steps)  # Replace multiple spaces with a single space\n",
    "\n",
    "    # Extract the perturbation info\n",
    "    perturbation_info_match = re.search(r'<perturbation_info>(.*?)</perturbation_info>', output, re.DOTALL)\n",
    "    perturbation_info = perturbation_info_match.group(1).strip() if perturbation_info_match else \"\"\n",
    "\n",
    "    # Extract the selected step number\n",
    "    step_match = re.search(r'Selected Step:\\s*(\\d+)', perturbation_info)\n",
    "    perturbation_step = int(step_match.group(1)) if step_match else None\n",
    "\n",
    "    # Extract the perturbation type\n",
    "    type_match = re.search(r'Perturbation Type:\\s*(.*)', perturbation_info)\n",
    "    perturbation_type = type_match.group(1).strip() if type_match else \"\"\n",
    "\n",
    "    # Extract the description\n",
    "    description_match = re.search(r'Description:\\s*(.*)', perturbation_info)\n",
    "    perturbation_trace = description_match.group(1).strip() if description_match else \"\"\n",
    "\n",
    "    return {\n",
    "        \"steps\": steps,\n",
    "        \"perturbation_step\": perturbation_step,\n",
    "        \"perturbation_type\": perturbation_type,\n",
    "        \"perturbation_trace\": perturbation_trace\n",
    "}\n"
   ]
  },
  {
   "cell_type": "code",
   "execution_count": null,
   "metadata": {},
   "outputs": [],
   "source": [
    "df_100 = pd.read_csv(\"datasets/cn_k12_math_problems.csv\", nrows=100)\n",
    "df_100 = df_100[[\"problem\", \"solution\"]]\n",
    "\n",
    "for index, row in df_100.iterrows():\n",
    "    steps = stepify(row[\"solution\"])\n",
    "    perturbed = perturb(steps)\n",
    "    print(\"~~~~~~~~~~~~~~\")\n",
    "    postprocessed = postprocess(perturbed)\n",
    "    pprint(row[\"solution\"], postprocessed)\n",
    "    print(\"~~~~~~~~~~~~~~\")\n",
    "\n",
    "\n",
    "\n"
   ]
  },
  {
   "cell_type": "code",
   "execution_count": null,
   "metadata": {},
   "outputs": [],
   "source": []
  },
  {
   "cell_type": "code",
   "execution_count": null,
   "metadata": {},
   "outputs": [],
   "source": []
  }
 ],
 "metadata": {
  "kernelspec": {
   "display_name": "venv",
   "language": "python",
   "name": "python3"
  },
  "language_info": {
   "codemirror_mode": {
    "name": "ipython",
    "version": 3
   },
   "file_extension": ".py",
   "mimetype": "text/x-python",
   "name": "python",
   "nbconvert_exporter": "python",
   "pygments_lexer": "ipython3",
   "version": "3.12.6"
  }
 },
 "nbformat": 4,
 "nbformat_minor": 2
}
