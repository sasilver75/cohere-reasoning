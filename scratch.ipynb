{
 "cells": [
  {
   "cell_type": "code",
   "execution_count": 1,
   "metadata": {},
   "outputs": [
    {
     "name": "stdout",
     "output_type": "stream",
     "text": [
      "2.2.3\n"
     ]
    }
   ],
   "source": [
    "!python -c \"import pandas; print(pandas.__version__)\""
   ]
  },
  {
   "cell_type": "code",
   "execution_count": 2,
   "metadata": {},
   "outputs": [
    {
     "name": "stderr",
     "output_type": "stream",
     "text": [
      "/home/sam/code/cohere-reasoning/venv/lib/python3.12/site-packages/tqdm/auto.py:21: TqdmWarning: IProgress not found. Please update jupyter and ipywidgets. See https://ipywidgets.readthedocs.io/en/stable/user_install.html\n",
      "  from .autonotebook import tqdm as notebook_tqdm\n"
     ]
    }
   ],
   "source": [
    "import pandas as pd\n",
    "from datasets import load_dataset"
   ]
  },
  {
   "cell_type": "code",
   "execution_count": 3,
   "metadata": {},
   "outputs": [],
   "source": [
    "# Download the 859594-record (859494 train, 100 test) NuminaMath-CoT Dataset from HF\n",
    "# This dataset contains math problems with solutiosn formulated in a CoT fashion\n",
    "# Sources range from Chinese high-school math to IMO problems\n",
    "# The \"cn_k12\" Chinese high-school subset contains the 276591 records we'll use\n",
    "dataset_name = \"AI-MO/NuminaMath-CoT\"\n",
    "dataset = load_dataset(dataset_name)\n"
   ]
  },
  {
   "cell_type": "code",
   "execution_count": 4,
   "metadata": {},
   "outputs": [],
   "source": [
    "# Combine the train/test splits, with a new column indicating original split\n",
    "train_df = pd.DataFrame(dataset[\"train\"])\n",
    "test_df = pd.DataFrame(dataset[\"test\"])\n",
    "train_df[\"set\"] = \"train\"\n",
    "test_df[\"set\"] = \"test\"\n",
    "df = pd.concat([train_df, test_df])\n"
   ]
  },
  {
   "cell_type": "markdown",
   "metadata": {},
   "source": [
    "The Dataframe contains the following columns\n",
    "- **source**: The source of the problem\n",
    "- **problem**: The problem statement\n",
    "- **solution**: The solution to the problem\n",
    "- **messages**: problem/solution columns reformatted in a JSON chat-assitant format\n",
    "- **set**: The original split of the problem (train or test)\n"
   ]
  },
  {
   "cell_type": "code",
   "execution_count": 5,
   "metadata": {},
   "outputs": [],
   "source": [
    "# Filter to only the cn_k12 subset\n",
    "df = df[df[\"source\"] == \"cn_k12\"]\n",
    "questions = df[\"problem\"]"
   ]
  },
  {
   "cell_type": "code",
   "execution_count": 6,
   "metadata": {},
   "outputs": [
    {
     "data": {
      "text/plain": [
       "'Given the functions $f(x) = \\\\log_a(1+x)$ and $g(x) = \\\\log_a(1-x)$, where $a>0$ and $a \\\\neq 1$.\\n1. Find the domain of the function $f(x) - g(x)$.\\n2. Determine the parity of the function $f(x) - g(x)$.\\n3. Find the range of $x$ for which $f(x) - g(x) > 0$.'"
      ]
     },
     "execution_count": 6,
     "metadata": {},
     "output_type": "execute_result"
    }
   ],
   "source": [
    "questions.iloc[0]"
   ]
  },
  {
   "cell_type": "code",
   "execution_count": null,
   "metadata": {},
   "outputs": [],
   "source": []
  }
 ],
 "metadata": {
  "kernelspec": {
   "display_name": "venv",
   "language": "python",
   "name": "python3"
  },
  "language_info": {
   "codemirror_mode": {
    "name": "ipython",
    "version": 3
   },
   "file_extension": ".py",
   "mimetype": "text/x-python",
   "name": "python",
   "nbconvert_exporter": "python",
   "pygments_lexer": "ipython3",
   "version": "3.12.6"
  }
 },
 "nbformat": 4,
 "nbformat_minor": 2
}
