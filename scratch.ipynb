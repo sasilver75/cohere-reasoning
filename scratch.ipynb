{
 "cells": [
  {
   "cell_type": "code",
   "execution_count": 2,
   "metadata": {},
   "outputs": [
    {
     "name": "stderr",
     "output_type": "stream",
     "text": [
      "/home/sam/code/cohere-reasoning/venv/lib/python3.12/site-packages/tqdm/auto.py:21: TqdmWarning: IProgress not found. Please update jupyter and ipywidgets. See https://ipywidgets.readthedocs.io/en/stable/user_install.html\n",
      "  from .autonotebook import tqdm as notebook_tqdm\n"
     ]
    }
   ],
   "source": [
    "import os\n",
    "import pdb\n",
    "\n",
    "import pandas as pd\n",
    "from datasets import load_dataset\n",
    "import cohere\n",
    "from dotenv import load_dotenv\n",
    "\n"
   ]
  },
  {
   "cell_type": "code",
   "execution_count": 3,
   "metadata": {},
   "outputs": [
    {
     "name": "stdout",
     "output_type": "stream",
     "text": [
      "text='Hello! How can I help you today?' generation_id='fc6551f7-d9b5-4f3b-9a04-4a3b1dbbe42a' citations=None documents=None is_search_required=None search_queries=None search_results=None finish_reason='COMPLETE' tool_calls=None chat_history=[UserMessage(role='USER', message='Hello, world!', tool_calls=None), ChatbotMessage(role='CHATBOT', message='Hello! How can I help you today?', tool_calls=None)] prompt=None meta=ApiMeta(api_version=ApiMetaApiVersion(version='1', is_deprecated=None, is_experimental=None), billed_units=ApiMetaBilledUnits(input_tokens=4.0, output_tokens=9.0, search_units=None, classifications=None), tokens=ApiMetaTokens(input_tokens=210.0, output_tokens=9.0), warnings=None) response_id='2e88872b-5505-4b5d-a35e-eae3cad3b1c0'\n"
     ]
    }
   ],
   "source": [
    "# Retrieve your API key from environment variables, and create a Cohere client\n",
    "load_dotenv()\n",
    "key = os.getenv(\"COHERE_API_KEY\")\n",
    "co = cohere.Client(key)\n",
    "\n",
    "# Test the API\n",
    "print(co.chat(message=\"Hello, world!\"))"
   ]
  },
  {
   "cell_type": "code",
   "execution_count": 4,
   "metadata": {},
   "outputs": [],
   "source": [
    "# Download the 859594-record (859494 train, 100 test) NuminaMath-CoT Dataset from HF\n",
    "# This dataset contains math problems with solutiosn formulated in a CoT fashion\n",
    "# Sources range from Chinese high-school math to IMO problems\n",
    "# The \"cn_k12\" Chinese high-school subset contains the 276591 records we'll use\n",
    "dataset_name = \"AI-MO/NuminaMath-CoT\"\n",
    "dataset = load_dataset(dataset_name)\n"
   ]
  },
  {
   "cell_type": "code",
   "execution_count": 5,
   "metadata": {},
   "outputs": [],
   "source": [
    "# Combine the train/test splits, with a new column indicating original split\n",
    "train_df = pd.DataFrame(dataset[\"train\"])\n",
    "test_df = pd.DataFrame(dataset[\"test\"])\n",
    "train_df[\"set\"] = \"train\"\n",
    "test_df[\"set\"] = \"test\"\n",
    "df = pd.concat([train_df, test_df])\n"
   ]
  },
  {
   "cell_type": "markdown",
   "metadata": {},
   "source": [
    "The Dataframe contains the following columns\n",
    "- **source**: The source of the problem\n",
    "- **problem**: The problem statement\n",
    "- **solution**: The solution to the problem\n",
    "- **messages**: problem/solution columns reformatted in a JSON chat-assitant format\n",
    "- **set**: The original split of the problem (train or test)\n"
   ]
  },
  {
   "cell_type": "code",
   "execution_count": 5,
   "metadata": {},
   "outputs": [],
   "source": [
    "# Filter to only the cn_k12 subset\n",
    "df = df[df[\"source\"] == \"cn_k12\"]\n",
    "questions = df[\"problem\"]"
   ]
  },
  {
   "cell_type": "code",
   "execution_count": 1,
   "metadata": {},
   "outputs": [
    {
     "ename": "NameError",
     "evalue": "name 'questions' is not defined",
     "output_type": "error",
     "traceback": [
      "\u001b[0;31m---------------------------------------------------------------------------\u001b[0m",
      "\u001b[0;31mNameError\u001b[0m                                 Traceback (most recent call last)",
      "Cell \u001b[0;32mIn[1], line 1\u001b[0m\n\u001b[0;32m----> 1\u001b[0m \u001b[43mquestions\u001b[49m\u001b[38;5;241m.\u001b[39miloc[\u001b[38;5;241m0\u001b[39m]\n",
      "\u001b[0;31mNameError\u001b[0m: name 'questions' is not defined"
     ]
    }
   ],
   "source": [
    "questions.iloc[0]"
   ]
  },
  {
   "cell_type": "code",
   "execution_count": 14,
   "metadata": {},
   "outputs": [
    {
     "data": {
      "text/plain": [
       "<cohere.client.Client at 0x7771c93bfbc0>"
      ]
     },
     "execution_count": 14,
     "metadata": {},
     "output_type": "execute_result"
    }
   ],
   "source": []
  }
 ],
 "metadata": {
  "kernelspec": {
   "display_name": "venv",
   "language": "python",
   "name": "python3"
  },
  "language_info": {
   "codemirror_mode": {
    "name": "ipython",
    "version": 3
   },
   "file_extension": ".py",
   "mimetype": "text/x-python",
   "name": "python",
   "nbconvert_exporter": "python",
   "pygments_lexer": "ipython3",
   "version": "3.12.6"
  }
 },
 "nbformat": 4,
 "nbformat_minor": 2
}
