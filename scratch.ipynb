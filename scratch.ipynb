{
 "cells": [
  {
   "cell_type": "code",
   "execution_count": 2,
   "metadata": {},
   "outputs": [
    {
     "name": "stderr",
     "output_type": "stream",
     "text": [
      "/home/sam/code/cohere-reasoning/venv/lib/python3.12/site-packages/tqdm/auto.py:21: TqdmWarning: IProgress not found. Please update jupyter and ipywidgets. See https://ipywidgets.readthedocs.io/en/stable/user_install.html\n",
      "  from .autonotebook import tqdm as notebook_tqdm\n"
     ]
    }
   ],
   "source": [
    "import os\n",
    "\n",
    "import pandas as pd\n",
    "from datasets import load_dataset\n",
    "import cohere\n",
    "from dotenv import load_dotenv\n",
    "\n"
   ]
  },
  {
   "cell_type": "code",
   "execution_count": 3,
   "metadata": {},
   "outputs": [
    {
     "name": "stdout",
     "output_type": "stream",
     "text": [
      "text='Hello! How can I help you today?' generation_id='c8e2208a-68b2-4b39-8696-1c1b9f2f4f8f' citations=None documents=None is_search_required=None search_queries=None search_results=None finish_reason='COMPLETE' tool_calls=None chat_history=[UserMessage(role='USER', message='Hello, world!', tool_calls=None), ChatbotMessage(role='CHATBOT', message='Hello! How can I help you today?', tool_calls=None)] prompt=None meta=ApiMeta(api_version=ApiMetaApiVersion(version='1', is_deprecated=None, is_experimental=None), billed_units=ApiMetaBilledUnits(input_tokens=4.0, output_tokens=9.0, search_units=None, classifications=None), tokens=ApiMetaTokens(input_tokens=210.0, output_tokens=9.0), warnings=None) response_id='941683b1-631b-42fe-8e16-f0af5fdc35a9'\n"
     ]
    }
   ],
   "source": [
    "# Retrieve your API key from environment variables, and create a Cohere client\n",
    "load_dotenv()\n",
    "key = os.getenv(\"COHERE_API_KEY\")\n",
    "co = cohere.Client(key)\n",
    "\n",
    "# Test the API\n",
    "print(co.chat(message=\"Hello, world!\"))"
   ]
  },
  {
   "cell_type": "code",
   "execution_count": 4,
   "metadata": {},
   "outputs": [],
   "source": [
    "# Download the 859594-record (859494 train, 100 test) NuminaMath-CoT Dataset from HF\n",
    "# This dataset contains math problems with solutiosn formulated in a CoT fashion\n",
    "# Sources range from Chinese high-school math to IMO problems\n",
    "# The \"cn_k12\" Chinese high-school subset contains the 276591 records we'll use\n",
    "dataset_name = \"AI-MO/NuminaMath-CoT\"\n",
    "dataset = load_dataset(dataset_name)\n"
   ]
  },
  {
   "cell_type": "code",
   "execution_count": 5,
   "metadata": {},
   "outputs": [
    {
     "name": "stdout",
     "output_type": "stream",
     "text": [
      "Loading cn_k12 from local file...\n",
      "Loaded cn_k12 dataset\n"
     ]
    }
   ],
   "source": [
    "file_path = \"datasets/cn_k12_math_problems.csv\"\n",
    "if os.path.exists(file_path):\n",
    "    print(\"Loading cn_k12 from local file...\")\n",
    "    df = pd.read_csv(file_path)\n",
    "else:\n",
    "    print(\"Downloading cn_k12 from Hugging Face, processing, and saving locally...\")\n",
    "    # Download the 859594-record (859494 train, 100 test) NuminaMath-CoT Dataset from HF\n",
    "    # This dataset contains math problems with solutiosn formulated in a CoT fashion\n",
    "    # Sources range from Chinese high-school math to IMO problems\n",
    "    # The \"cn_k12\" Chinese high-school subset contains the 276591 records we'll use\n",
    "\n",
    "    dataset_name = \"AI-MO/NuminaMath-CoT\"\n",
    "    dataset = load_dataset(dataset_name)\n",
    "\n",
    "    # Combine the train/test splits, with a new column indicating original split\n",
    "    train_df = pd.DataFrame(dataset[\"train\"])\n",
    "    test_df = pd.DataFrame(dataset[\"test\"])\n",
    "    train_df[\"set\"] = \"train\"\n",
    "    test_df[\"set\"] = \"test\"\n",
    "    df = pd.concat([train_df, test_df])\n",
    "    df = df[df[\"source\"] == \"cn_k12\"]\n",
    "\n",
    "    # Now that we've downloaded and formatted the datset, let's save it locally.\n",
    "    df.to_csv(file_path, index=False)\n",
    "print(\"Loaded cn_k12 dataset\")"
   ]
  },
  {
   "cell_type": "markdown",
   "metadata": {},
   "source": [
    "The Dataframe contains the following columns\n",
    "- **source**: The source of the problem\n",
    "- **problem**: The problem statement\n",
    "- **solution**: The solution to the problem\n",
    "- **messages**: problem/solution columns reformatted in a JSON chat-assitant format\n",
    "- **set**: The original split of the problem (train or test)\n"
   ]
  },
  {
   "cell_type": "code",
   "execution_count": 6,
   "metadata": {},
   "outputs": [],
   "source": [
    "# This stops the text from being truncated in the dataframe\n",
    "pd.set_option(\"display.max_colwidth\", None)"
   ]
  },
  {
   "cell_type": "code",
   "execution_count": 9,
   "metadata": {},
   "outputs": [
    {
     "data": {
      "text/html": [
       "<div>\n",
       "<style scoped>\n",
       "    .dataframe tbody tr th:only-of-type {\n",
       "        vertical-align: middle;\n",
       "    }\n",
       "\n",
       "    .dataframe tbody tr th {\n",
       "        vertical-align: top;\n",
       "    }\n",
       "\n",
       "    .dataframe thead th {\n",
       "        text-align: right;\n",
       "    }\n",
       "</style>\n",
       "<table border=\"1\" class=\"dataframe\">\n",
       "  <thead>\n",
       "    <tr style=\"text-align: right;\">\n",
       "      <th></th>\n",
       "      <th>problem</th>\n",
       "      <th>solution</th>\n",
       "    </tr>\n",
       "  </thead>\n",
       "  <tbody>\n",
       "    <tr>\n",
       "      <th>0</th>\n",
       "      <td>Given the functions $f(x) = \\log_a(1+x)$ and $g(x) = \\log_a(1-x)$, where $a&gt;0$ and $a \\neq 1$.\\n1. Find the domain of the function $f(x) - g(x)$.\\n2. Determine the parity of the function $f(x) - g(x)$.\\n3. Find the range of $x$ for which $f(x) - g(x) &gt; 0$.</td>\n",
       "      <td>1. Since $f(x) = \\log_a(1+x)$ and $g(x) = \\log_a(1-x)$, where $a&gt;0$ and $a \\neq 1$, we have $f(x) - g(x) = \\log_a(1+x) - \\log_a(1-x)$, where $a&gt;0$ and $a \\neq 1$. To ensure the function $f(x) - g(x)$ is meaningful, we need\\n$$\\n\\begin{cases}\\n1+x &gt; 0 \\\\\\n1-x &gt; 0\\n\\end{cases}\\n$$\\nSolving this, we get $-1 &lt; x &lt; 1$, which means the domain of the function $f(x) - g(x)$ is $(-1, 1)$.\\n\\n2. Since the domain of $f(x) - g(x)$ is $(-1, 1)$, which is symmetric about the origin, let $F(x) = f(x) - g(x)$. Then $F(-x) = f(-x) - g(-x) = \\log_a(1-x) - \\log_a(1+x) = -[\\log_a(1+x) - \\log_a(1-x)] = -F(x)$. Therefore, $f(x) - g(x)$ is an odd function.\\n\\n3. From $f(x) - g(x) &gt; 0$, we get $f(x) &gt; g(x)$, which means $\\log_a(1+x) &gt; \\log_a(1-x)$. If $a &gt; 1$, then\\n$$\\n\\begin{cases}\\n-1 &lt; x &lt; 1 \\\\\\n1+x &gt; 1-x\\n\\end{cases}\\n$$\\nwhich simplifies to\\n$$\\n\\begin{cases}\\n-1 &lt; x &lt; 1 \\\\\\nx &gt; 0\\n\\end{cases}\\n$$\\nSolving this, we get $0 &lt; x &lt; 1$. If $0 &lt; a &lt; 1$, then\\n$$\\n\\begin{cases}\\n-1 &lt; x &lt; 1 \\\\\\n1+x &lt; 1-x\\n\\end{cases}\\n$$\\nwhich simplifies to\\n$$\\n\\begin{cases}\\n-1 &lt; x &lt; 1 \\\\\\nx &lt; 0\\n\\end{cases}\\n$$\\nSolving this, we get $-1 &lt; x &lt; 0$. In summary, if $a &gt; 1$, the solution set for the inequality is $(0, 1)$, and if $0 &lt; a &lt; 1$, the solution set for the inequality is $(-1, 0)$.\\n\\nTherefore, the final answers are:\\n1. The domain of $f(x) - g(x)$ is $\\boxed{(-1, 1)}$.\\n2. The function $f(x) - g(x)$ is an $\\boxed{\\text{odd function}}$.\\n3. The range of $x$ for which $f(x) - g(x) &gt; 0$ is $\\boxed{(0, 1)}$ if $a &gt; 1$, and $\\boxed{(-1, 0)}$ if $0 &lt; a &lt; 1$.</td>\n",
       "    </tr>\n",
       "  </tbody>\n",
       "</table>\n",
       "</div>"
      ],
      "text/plain": [
       "                                                                                                                                                                                                                                                            problem  \\\n",
       "0  Given the functions $f(x) = \\log_a(1+x)$ and $g(x) = \\log_a(1-x)$, where $a>0$ and $a \\neq 1$.\\n1. Find the domain of the function $f(x) - g(x)$.\\n2. Determine the parity of the function $f(x) - g(x)$.\\n3. Find the range of $x$ for which $f(x) - g(x) > 0$.   \n",
       "\n",
       "                                                                                                                                                                                                                                                                                                                                                                                                                                                                                                                                                                                                                                                                                                                                                                                                                                                                                                                                                                                                                                                                                                                                                                                                                                                                                                                                                                                                                                                                                                                                                                                                     solution  \n",
       "0  1. Since $f(x) = \\log_a(1+x)$ and $g(x) = \\log_a(1-x)$, where $a>0$ and $a \\neq 1$, we have $f(x) - g(x) = \\log_a(1+x) - \\log_a(1-x)$, where $a>0$ and $a \\neq 1$. To ensure the function $f(x) - g(x)$ is meaningful, we need\\n$$\\n\\begin{cases}\\n1+x > 0 \\\\\\n1-x > 0\\n\\end{cases}\\n$$\\nSolving this, we get $-1 < x < 1$, which means the domain of the function $f(x) - g(x)$ is $(-1, 1)$.\\n\\n2. Since the domain of $f(x) - g(x)$ is $(-1, 1)$, which is symmetric about the origin, let $F(x) = f(x) - g(x)$. Then $F(-x) = f(-x) - g(-x) = \\log_a(1-x) - \\log_a(1+x) = -[\\log_a(1+x) - \\log_a(1-x)] = -F(x)$. Therefore, $f(x) - g(x)$ is an odd function.\\n\\n3. From $f(x) - g(x) > 0$, we get $f(x) > g(x)$, which means $\\log_a(1+x) > \\log_a(1-x)$. If $a > 1$, then\\n$$\\n\\begin{cases}\\n-1 < x < 1 \\\\\\n1+x > 1-x\\n\\end{cases}\\n$$\\nwhich simplifies to\\n$$\\n\\begin{cases}\\n-1 < x < 1 \\\\\\nx > 0\\n\\end{cases}\\n$$\\nSolving this, we get $0 < x < 1$. If $0 < a < 1$, then\\n$$\\n\\begin{cases}\\n-1 < x < 1 \\\\\\n1+x < 1-x\\n\\end{cases}\\n$$\\nwhich simplifies to\\n$$\\n\\begin{cases}\\n-1 < x < 1 \\\\\\nx < 0\\n\\end{cases}\\n$$\\nSolving this, we get $-1 < x < 0$. In summary, if $a > 1$, the solution set for the inequality is $(0, 1)$, and if $0 < a < 1$, the solution set for the inequality is $(-1, 0)$.\\n\\nTherefore, the final answers are:\\n1. The domain of $f(x) - g(x)$ is $\\boxed{(-1, 1)}$.\\n2. The function $f(x) - g(x)$ is an $\\boxed{\\text{odd function}}$.\\n3. The range of $x$ for which $f(x) - g(x) > 0$ is $\\boxed{(0, 1)}$ if $a > 1$, and $\\boxed{(-1, 0)}$ if $0 < a < 1$.  "
      ]
     },
     "execution_count": 9,
     "metadata": {},
     "output_type": "execute_result"
    }
   ],
   "source": [
    "\n",
    "questions = df[[\"problem\", \"solution\"]]\n",
    "questions.head(n=1)"
   ]
  },
  {
   "cell_type": "code",
   "execution_count": null,
   "metadata": {},
   "outputs": [],
   "source": []
  }
 ],
 "metadata": {
  "kernelspec": {
   "display_name": "venv",
   "language": "python",
   "name": "python3"
  },
  "language_info": {
   "codemirror_mode": {
    "name": "ipython",
    "version": 3
   },
   "file_extension": ".py",
   "mimetype": "text/x-python",
   "name": "python",
   "nbconvert_exporter": "python",
   "pygments_lexer": "ipython3",
   "version": "3.12.6"
  }
 },
 "nbformat": 4,
 "nbformat_minor": 2
}
